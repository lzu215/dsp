{
 "cells": [
  {
   "cell_type": "markdown",
   "metadata": {},
   "source": [
    "### Lanzhou University\n",
    "### INFO 213: Data Science Programming II, Fall 2022\n",
    "---\n",
    "\n",
    "## Project Proposal\n",
    "\n",
    "## Project Title: Prediction and Analyses of House Prices\n",
    "\n",
    "## Student(s):\n",
    "|  Name  |  Student ID  |\n",
    "|  :----:  |  :----:  |\n",
    "|  Wenbo Liu  |  320200931121  |\n",
    "|  Chengkai Lin  |  320200945841  |\n",
    "|  Xuda Han  |  320200945781  |\n",
    "\n",
    "#### Date: 22/11/23\n",
    "---"
   ]
  },
  {
   "cell_type": "markdown",
   "metadata": {},
   "source": [
    "#### Purpose\n",
    "---\n",
    "You are asked to propose a final project and present in the class. This proposal should describe the problem, the data sets, and the goal(s) of the project. Use the Project Requirements at the end of this notebook for choosing and scoping your project. "
   ]
  },
  {
   "cell_type": "markdown",
   "metadata": {},
   "source": [
    "### 1. Introduction\n",
    "---\n",
    "*(Introduce the project and describe the objectives.)* "
   ]
  },
  {
   "cell_type": "markdown",
   "metadata": {},
   "source": [
    "We are going to use a dataset called Boston Housing Data, and run some exploratory analyses to have better understanding of the dataset. We would use linear regression model to predict the house price, and draw some line charts to see how some attributes affects the price."
   ]
  },
  {
   "cell_type": "markdown",
   "metadata": {},
   "source": [
    "### 2. Problem Definition\n",
    "---\n",
    "*(Define the problem that will be solved in this data analytics project.)*"
   ]
  },
  {
   "cell_type": "markdown",
   "metadata": {},
   "source": [
    "We would use linear regression to train a model of `MEDV`, and use it to predict the house price and check its accuracy.<br/>\n",
    "We would also see how these attributes affects the price: `CRIM`, `RM` and `LSTAT`."
   ]
  },
  {
   "cell_type": "markdown",
   "metadata": {},
   "source": [
    "### 3. Data Sources\n",
    "---\n",
    "*(Describe the origin of the data sources. What is the format of the original data? How to access the data?)*"
   ]
  },
  {
   "cell_type": "markdown",
   "metadata": {},
   "source": [
    "The dataset is taken from the StatLib library which is maintained at Carnegie Mellon University, uploaded on July 7, 1993, and is downloadable via GitHub<br/>\n",
    "Link: https://github.com/jbrownlee/Datasets/blob/master/housing.csv<br/><br/>\n",
    "Format:\n",
    "- `CRIM`   -   per capita crime rate by town\n",
    "- `ZN`     -   proportion of residential land zoned for lots over 25,000 sq.ft.\n",
    "- `INDUS`  -   proportion of non-retail business acres per town\n",
    "- `CHAS`   -   Charles River dummy variable (= 1 if tract bounds river; 0 otherwise)\n",
    "- `NOX`    -   nitric oxides concentration (parts per 10 million)\n",
    "- `RM`     -   average number of rooms per dwelling\n",
    "- `AGE`    -   proportion of owner-occupied units built prior to 1940\n",
    "- `DIS`    -   weighted distances to five Boston employment centres\n",
    "- `RAD`    -   index of accessibility to radial highways\n",
    "- `TAX`   -   full-value property-tax rate per $10,000\n",
    "- `PTRATIO-`  pupil-teacher ratio by town\n",
    "- `B`     -   1000(Bk - 0.63)^2 where Bk is the proportion of blacks by town\n",
    "- `LSTAT` -   % lower status of the population\n",
    "- `MEDV`  -   Median value of owner-occupied homes in $1000's"
   ]
  },
  {
   "cell_type": "markdown",
   "metadata": {},
   "source": [
    "### 4. The Goal(s) of the Analytics\n",
    "---\n",
    "*(What are the expected results of the project?)*"
   ]
  },
  {
   "cell_type": "markdown",
   "metadata": {},
   "source": [
    "We would get a regression model predicting the house price, and some line charts that shows the relevance of some attributes"
   ]
  },
  {
   "cell_type": "markdown",
   "metadata": {},
   "source": [
    "---\n",
    "(*Use the following requirements for writing your reports. DO NOT DELETE THE CELLS BELLOW*)"
   ]
  },
  {
   "cell_type": "markdown",
   "metadata": {},
   "source": [
    "# Project Requirements\n",
    "\n",
    "This final project examines the level of knowledge the students have learned from the course. The following course outcomes will be checked against the content of the report:\n",
    "\n",
    "Upon successful completion of this course, a student will be able to:\n",
    "* Describe the key Python tools and libraries that related to a typical data analytics project. \n",
    "* Identify data science libraries, frameworks, modules, and toolkits in Python that efficiently implement the most common data science algorithms and techniques.\n",
    "* Apply latest Python techniques in data acquisition, transformation and predictive analytics for data science projects.\n",
    "* Discuss the underlying principles and main characteristics of the most common methods and techniques for data analytics. \n",
    "* Build data analytic and predictive models for real world data sets using existing Python libraries.\n",
    "\n",
    "** Marking will be foucsed on both presentation and content.** \n",
    "\n",
    "## Written Presentation Requirements\n",
    "The report will be judged on the basis of visual appearance, grammatical correctness, and quality of writing, as well as its contents. Please make sure that the text of your report is well-structured, using paragraphs, full sentences, and other features of well-written presentation.\n",
    "\n",
    "## Technical Content:\n",
    "* Is the problem well defined and described thoroughly?\n",
    "* Is the size and complexity of the data set used in this project comparable to that of the example data sets used in the lectures and assignments?\n",
    "* Did the report describe the charactriatics of the data?\n",
    "* Did the report describe the goals of the data analysis?\n",
    "* Did the analysis conduct exploratory analyses on the data?\n",
    "* Did the analysis build models of the data and evaluated the performance of the models?\n",
    "* Overall, what is the rating of this project?"
   ]
  }
 ],
 "metadata": {
  "interpreter": {
   "hash": "aee8b7b246df8f9039afb4144a1f6fd8d2ca17a180786b69acc140d282b71a49"
  },
  "kernelspec": {
   "display_name": "Python 3.9.13 64-bit",
   "language": "python",
   "name": "python3"
  },
  "language_info": {
   "codemirror_mode": {
    "name": "ipython",
    "version": 3
   },
   "file_extension": ".py",
   "mimetype": "text/x-python",
   "name": "python",
   "nbconvert_exporter": "python",
   "pygments_lexer": "ipython3",
   "version": "3.9.13"
  }
 },
 "nbformat": 4,
 "nbformat_minor": 2
}
