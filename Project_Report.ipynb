{
 "cells": [
  {
   "cell_type": "markdown",
   "metadata": {},
   "source": [
    "### Lanzhou University\n",
    "### INFO 213: Data Science Programming II, Fall 2022\n",
    "---\n",
    "\n",
    "## Final Project Report\n",
    "\n",
    "## Project Title:\n",
    "\n",
    "## Team ID:\n",
    "\n",
    "## Student(s):\n",
    "\n",
    "#### Date:\n",
    "---"
   ]
  },
  {
   "cell_type": "markdown",
   "metadata": {},
   "source": [
    "#### Abstract\n",
    "---\n",
    "*(Briefly summarize the project including the problem, data sets, models, and final findings.)* "
   ]
  },
  {
   "cell_type": "code",
   "execution_count": null,
   "metadata": {},
   "outputs": [],
   "source": []
  },
  {
   "cell_type": "markdown",
   "metadata": {},
   "source": [
    "### 1. Introduction\n",
    "---\n",
    "*(Introduce the project, describe the objectives, and highlight the key findings.)* "
   ]
  },
  {
   "cell_type": "code",
   "execution_count": null,
   "metadata": {},
   "outputs": [],
   "source": []
  },
  {
   "cell_type": "markdown",
   "metadata": {},
   "source": [
    "### 2. Problem Definition\n",
    "---\n",
    "*(Define the problem that will be solved in this data analytics project.)*"
   ]
  },
  {
   "cell_type": "code",
   "execution_count": null,
   "metadata": {},
   "outputs": [],
   "source": []
  },
  {
   "cell_type": "markdown",
   "metadata": {},
   "source": [
    "### 3. Data Sets\n",
    "---\n",
    "*(Describe the origin of the data sources. What is the format of the original data? How to access the data?)*"
   ]
  },
  {
   "cell_type": "code",
   "execution_count": null,
   "metadata": {},
   "outputs": [],
   "source": []
  },
  {
   "cell_type": "markdown",
   "metadata": {},
   "source": [
    "### 4. Preparation\n",
    "---\n",
    "*(Describe and present any code and methods for cleaning, munging, combining, normalizing, reshaping, slicing and dicing, and transforming data for analysis.)*"
   ]
  },
  {
   "cell_type": "code",
   "execution_count": null,
   "metadata": {},
   "outputs": [],
   "source": []
  },
  {
   "cell_type": "markdown",
   "metadata": {},
   "source": [
    "### 5. Exploration and Visualization\n",
    "---\n",
    "*(Describe and present any code and methods for exploring and visualizing the data by analyzing its statistics and correlations between different features.)*"
   ]
  },
  {
   "cell_type": "code",
   "execution_count": null,
   "metadata": {},
   "outputs": [],
   "source": []
  },
  {
   "cell_type": "markdown",
   "metadata": {},
   "source": [
    "### 6. Modeling and Evaluation\n",
    "---\n",
    "*(Describe and present the predictive models built on the data and evaluate the performance of the models for solving the problem)*"
   ]
  },
  {
   "cell_type": "code",
   "execution_count": null,
   "metadata": {},
   "outputs": [],
   "source": []
  },
  {
   "cell_type": "markdown",
   "metadata": {},
   "source": [
    "### 7. Conclusion\n",
    "---\n",
    "*(Briefly describe what you have done and what you discovered. Discuss any shortcomings of the process and results. Propose future work. **Finally, discuss the lessons learned from doing the project**.)*"
   ]
  },
  {
   "cell_type": "code",
   "execution_count": null,
   "metadata": {},
   "outputs": [],
   "source": []
  },
  {
   "cell_type": "markdown",
   "metadata": {},
   "source": [
    "### 8. References"
   ]
  },
  {
   "cell_type": "code",
   "execution_count": null,
   "metadata": {},
   "outputs": [],
   "source": []
  },
  {
   "cell_type": "markdown",
   "metadata": {},
   "source": [
    "---\n",
    "(*Use the following requirements for writing your reports. DO NOT DELETE THE CELLS BELLOW*)"
   ]
  },
  {
   "cell_type": "markdown",
   "metadata": {},
   "source": [
    "# Project Requirements\n",
    "\n",
    "This final project examines the level of knowledge the students have learned from the course. The following course outcomes will be checked against the content of the report:\n",
    "\n",
    "Upon successful completion of this course, a student will be able to:\n",
    "* Describe the key Python tools and libraries that related to a typical data analytics project. \n",
    "* Identify data science libraries, frameworks, modules, and toolkits in Python that efficiently implement the most common data science algorithms and techniques.\n",
    "* Apply latest Python techniques in data acquisition, transformation and predictive analytics for data science projects.\n",
    "* Discuss the underlying principles and main characteristics of the most common methods and techniques for data analytics. \n",
    "* Build data analytic and predictive models for real world data sets using existing Python libraries.\n",
    "\n",
    "** Marking will be foucsed on both presentation and content.** \n",
    "\n",
    "## Written Presentation Requirements\n",
    "The report will be judged on the basis of visual appearance, grammatical correctness, and quality of writing, as well as its contents. Please make sure that the text of your report is well-structured, using paragraphs, full sentences, and other features of well-written presentation.\n",
    "\n",
    "## Technical Content:\n",
    "* Is the problem well defined and described thoroughly?\n",
    "* Is the size and complexity of the data set used in this project comparable to that of the example data sets used in the lectures and assignments?\n",
    "* Did the report describe the charactriatics of the data?\n",
    "* Did the report describe the goals of the data analysis?\n",
    "* Did the analysis conduct exploratory analyses on the data?\n",
    "* Did the analysis build models of the data and evaluate the performance of the models?\n",
    "* Overall, what is the rating of this project?"
   ]
  },
  {
   "cell_type": "code",
   "execution_count": null,
   "metadata": {},
   "outputs": [],
   "source": []
  }
 ],
 "metadata": {
  "interpreter": {
   "hash": "aee8b7b246df8f9039afb4144a1f6fd8d2ca17a180786b69acc140d282b71a49"
  },
  "kernelspec": {
   "display_name": "Python 3.9.13 64-bit",
   "language": "python",
   "name": "python3"
  },
  "language_info": {
   "codemirror_mode": {
    "name": "ipython",
    "version": 3
   },
   "file_extension": ".py",
   "mimetype": "text/x-python",
   "name": "python",
   "nbconvert_exporter": "python",
   "pygments_lexer": "ipython3",
   "version": "3.9.13"
  }
 },
 "nbformat": 4,
 "nbformat_minor": 2
}
